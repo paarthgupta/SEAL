{
 "cells": [
  {
   "cell_type": "code",
   "execution_count": null,
   "metadata": {},
   "outputs": [],
   "source": [
    "import os\n",
    "if os.getcwd().startswith('/content/'):\n",
    "    from google.colab import drive\n",
    "    drive.mount('/content/drive')"
   ]
  },
  {
   "cell_type": "code",
   "execution_count": null,
   "metadata": {},
   "outputs": [],
   "source": [
    "cd '/content/drive/My Drive/Colab Notebooks/libraries/SEAL/Python'"
   ]
  },
  {
   "cell_type": "code",
   "execution_count": null,
   "metadata": {},
   "outputs": [],
   "source": [
    "from main_functions import *"
   ]
  },
  {
   "cell_type": "code",
   "execution_count": null,
   "metadata": {},
   "outputs": [],
   "source": [
    "params = get_default_params()\n",
    "data_params = params['data_params']\n",
    "data_params['data_name'] = 'email-Enron'\n",
    "data_params['split_mode'] = 'structural'\n",
    "data_params['base_path'] = get_base_path()\n",
    "lp_data_params = params['lp_data_params']\n",
    "emb_params = {'node_dim': None, 'hyperedge_dim': None}\n",
    "subgraph_params = {'hop': 2, 'max_nodes_per_hop': None, 'mode': modes[1]}\n",
    "classification_params = {'nn': 'DGCNN',\n",
    "                         'sortpooling_k': 0.6,\n",
    "                         'latent_dim': [64, 32, 32, 16, 1],\n",
    "                         'hidden': 128,\n",
    "                         'out_dim': 0,\n",
    "                         'dropout': True,\n",
    "                         'num_class': 2,\n",
    "                         'mode': 'cpu',\n",
    "                         'num_epochs': 20,\n",
    "                         'learning_rate': 1e-3,\n",
    "                         'batch_size': 50,\n",
    "                         'attr_dim': 0,\n",
    "                         'edge_attr_dim': 0,\n",
    "                         \n",
    "}"
   ]
  },
  {
   "cell_type": "code",
   "execution_count": null,
   "metadata": {},
   "outputs": [],
   "source": [
    "# data = read_data(data_params)\n",
    "data = get_default_data()\n",
    "lp_data = prepare_lp_data(data, lp_data_params)\n",
    "lp_data = extract_embeddings(lp_data, emb_params)\n",
    "subgraph_data = extract_subgraphs(lp_data, subgraph_params)\n",
    "results = classify(subgraph_data, classification_params, False)"
   ]
  }
 ],
 "metadata": {
  "kernelspec": {
   "display_name": "Python [conda env:genv] *",
   "language": "python",
   "name": "conda-env-genv-py"
  },
  "language_info": {
   "codemirror_mode": {
    "name": "ipython",
    "version": 3
   },
   "file_extension": ".py",
   "mimetype": "text/x-python",
   "name": "python",
   "nbconvert_exporter": "python",
   "pygments_lexer": "ipython3",
   "version": "3.7.4"
  }
 },
 "nbformat": 4,
 "nbformat_minor": 2
}
